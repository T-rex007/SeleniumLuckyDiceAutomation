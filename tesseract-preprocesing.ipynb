{
 "cells": [
  {
   "cell_type": "code",
   "execution_count": 1,
   "id": "aggressive-defendant",
   "metadata": {},
   "outputs": [],
   "source": [
    "import pytesseract\n",
    "import cv2\n",
    "import time\n",
    "import HelperFunc\n",
    "from selenium import webdriver\n",
    "import matplotlib.pyplot as plt\n",
    "import numpy as np"
   ]
  },
  {
   "cell_type": "code",
   "execution_count": 138,
   "id": "local-links",
   "metadata": {},
   "outputs": [],
   "source": [
    "import cv2\n",
    "import numpy as np\n",
    "\n",
    "# get grayscale image\n",
    "def get_grayscale(image):\n",
    "    return cv2.cvtColor(image, cv2.COLOR_BGR2GRAY)\n",
    "\n",
    "# noise removal\n",
    "def remove_noise(image, i):\n",
    "    return cv2.medianBlur(image,i)\n",
    " \n",
    "#thresholding\n",
    "def thresholding(image):\n",
    "    return cv2.threshold(image, 0, 255, cv2.THRESH_BINARY + cv2.THRESH_OTSU)[1]\n",
    "\n",
    "#dilation\n",
    "def dilate(image):\n",
    "    kernel = np.ones((2,2),np.uint8)\n",
    "    return cv2.dilate(image, kernel, iterations = 1)\n",
    "    \n",
    "#erosion\n",
    "def erode(image):\n",
    "    kernel = np.ones((5,5),np.uint8)\n",
    "    return cv2.erode(image, kernel, iterations = 1)\n",
    "\n",
    "#opening - erosion followed by dilation\n",
    "def opening(image):\n",
    "    kernel = np.ones((5,5),np.uint8)\n",
    "    return cv2.morphologyEx(image, cv2.MORPH_OPEN, kernel)\n",
    "\n",
    "#canny edge detection\n",
    "def canny(image):\n",
    "    return cv2.Canny(image, 100, 200)\n",
    "\n",
    "#skew correction\n",
    "def deskew(image):\n",
    "    coords = np.column_stack(np.where(image > 0))\n",
    "    angle = cv2.minAreaRect(coords)[-1]\n",
    "    if angle < -45:\n",
    "        angle = -(90 + angle)\n",
    "    else:\n",
    "        angle = -angle\n",
    "    (h, w) = image.shape[:2]\n",
    "    center = (w // 2, h // 2)\n",
    "    M = cv2.getRotationMatrix2D(center, angle, 1.0)\n",
    "    rotated = cv2.warpAffine(image, M, (w, h), flags=cv2.INTER_CUBIC, borderMode=cv2.BORDER_REPLICATE)\n",
    "    return rotated\n",
    "\n",
    "#template matching\n",
    "def match_template(image, template):\n",
    "    return cv2.matchTemplate(image, template, cv2.TM_CCOEFF_NORMED)\n",
    "def detect_signature(image):\n",
    "    vis = image.copy()\n",
    "    mser = cv2.MSER_create()\n",
    "    regions = mser.detectRegions(image)\n",
    "    hulls = [cv2.convexHull(p.reshape(-1, 1, 2)) for p in regions[0]]\n",
    "    xs = []\n",
    "    ys = []\n",
    "    for hull in hulls:\n",
    "        x,y,w,h = cv2.boundingRect(hull)\n",
    "        xmin, ymin, xmax, ymax = x,y,x+w,y+h\n",
    "        xs.append(xmin)\n",
    "        xs.append(xmax)\n",
    "        ys.append(ymin)\n",
    "        ys.append(ymax)\n",
    "    xmin_ = min(xs)\n",
    "    xmax_ = max(xs)\n",
    "    ymin_ = min(ys)\n",
    "    ymax_ = max(ys)\n",
    "    xmin_, ymin_, xmax_, ymax_\n",
    "    roi = image[ymin_:ymax_, xmin_:xmax_]\n",
    "    return roi\n",
    "\n",
    "def colorThreshold(img, rbg_threshold = (60,60,60)):\n",
    "    \"\"\"\n",
    "    Return Binary Image which is thresholded by thr rbg pixel vales \n",
    "    given in rbg_threshold i.e. If pixel is > thres assign 1\n",
    "    and if pixel is < thres assing 0\n",
    "    args:\n",
    "          img - img to be thresholded\n",
    "          rbg_threshold - (r,g,b)\n",
    "    \"\"\"\n",
    "    temp = np.zeros(img.shape)\n",
    "    rflags_h = img[:,:]>rbg_threshold[0]\n",
    "#     gflags_h = img[:,:,1]>rbg_threshold[1]\n",
    "#     bflags_h = img[:,:,2]>rbg_threshold[2]\n",
    "    \n",
    "    temp[:,:][rflags_h] = 1\n",
    "#     temp[:,:,1][gflags_h] = 1\n",
    "#     temp[:,:,2][bflags_h] = 1\n",
    "    return temp"
   ]
  },
  {
   "cell_type": "code",
   "execution_count": 298,
   "id": "declared-impact",
   "metadata": {},
   "outputs": [],
   "source": [
    "img  = cv2.imread(\"imgs/tests/im11.jpg\", 0)"
   ]
  },
  {
   "cell_type": "code",
   "execution_count": 300,
   "id": "fatty-geometry",
   "metadata": {},
   "outputs": [],
   "source": [
    "thotsu = thresholding(img)"
   ]
  },
  {
   "cell_type": "code",
   "execution_count": 301,
   "id": "certified-beads",
   "metadata": {},
   "outputs": [
    {
     "data": {
      "text/plain": [
       "<matplotlib.image.AxesImage at 0x7f53f9c2ea50>"
      ]
     },
     "execution_count": 301,
     "metadata": {},
     "output_type": "execute_result"
    },
    {
     "data": {
      "image/png": "[encoded data removed]",
      "text/plain": [
       "<Figure size 432x288 with 1 Axes>"
      ]
     },
     "metadata": {
      "needs_background": "light"
     },
     "output_type": "display_data"
    }
   ],
   "source": [
    "plt.imshow(img, cmap = 'gray')"
   ]
  },
  {
   "cell_type": "code",
   "execution_count": 305,
   "id": "meaning-fiber",
   "metadata": {
    "scrolled": true
   },
   "outputs": [
    {
     "data": {
      "text/plain": [
       "<matplotlib.image.AxesImage at 0x7f53f9b9e5d0>"
      ]
     },
     "execution_count": 305,
     "metadata": {},
     "output_type": "execute_result"
    },
    {
     "data": {
      "image/png": "[encoded data removed]",
      "text/plain": [
       "<Figure size 432x288 with 1 Axes>"
      ]
     },
     "metadata": {
      "needs_background": "light"
     },
     "output_type": "display_data"
    }
   ],
   "source": [
    "plt.imshow(thotsu, cmap = 'gray')"
   ]
  },
  {
   "cell_type": "code",
   "execution_count": 306,
   "id": "italic-patient",
   "metadata": {},
   "outputs": [],
   "source": [
    "tmp = np.abs(thotsu.astype( int) - 255)"
   ]
  },
  {
   "cell_type": "code",
   "execution_count": 307,
   "id": "greatest-tackle",
   "metadata": {},
   "outputs": [
    {
     "data": {
      "text/plain": [
       "<matplotlib.image.AxesImage at 0x7f53f9b1b510>"
      ]
     },
     "execution_count": 307,
     "metadata": {},
     "output_type": "execute_result"
    },
    {
     "data": {
      "image/png": "[encoded data removed]",
      "text/plain": [
       "<Figure size 432x288 with 1 Axes>"
      ]
     },
     "metadata": {
      "needs_background": "light"
     },
     "output_type": "display_data"
    }
   ],
   "source": [
    "plt.imshow(tmp, cmap='gray')"
   ]
  },
  {
   "cell_type": "code",
   "execution_count": 308,
   "id": "english-journalism",
   "metadata": {},
   "outputs": [],
   "source": [
    "tmp = np.array(tmp).astype('uint8')"
   ]
  },
  {
   "cell_type": "code",
   "execution_count": 309,
   "id": "owned-defensive",
   "metadata": {},
   "outputs": [
    {
     "data": {
      "text/plain": [
       "<matplotlib.image.AxesImage at 0x7f53f9a86ed0>"
      ]
     },
     "execution_count": 309,
     "metadata": {},
     "output_type": "execute_result"
    },
    {
     "data": {
      "image/png": "[encoded data removed]",
      "text/plain": [
       "<Figure size 432x288 with 1 Axes>"
      ]
     },
     "metadata": {
      "needs_background": "light"
     },
     "output_type": "display_data"
    }
   ],
   "source": [
    "plt.imshow(tmp, cmap = 'gray')"
   ]
  },
  {
   "cell_type": "code",
   "execution_count": 310,
   "id": "official-occurrence",
   "metadata": {},
   "outputs": [],
   "source": [
    "custom_config = r'--oem 3 --psm 6'\n",
    "str1 = pytesseract.image_to_string(tmp, config=custom_config)"
   ]
  },
  {
   "cell_type": "code",
   "execution_count": 311,
   "id": "communist-infrared",
   "metadata": {},
   "outputs": [
    {
     "data": {
      "text/plain": [
       "'Three\\n\\x0c'"
      ]
     },
     "execution_count": 311,
     "metadata": {},
     "output_type": "execute_result"
    }
   ],
   "source": [
    "str1"
   ]
  }
 ],
 "metadata": {
  "kernelspec": {
   "display_name": "Python 3",
   "language": "python",
   "name": "python3"
  },
  "language_info": {
   "codemirror_mode": {
    "name": "ipython",
    "version": 3
   },
   "file_extension": ".py",
   "mimetype": "text/x-python",
   "name": "python",
   "nbconvert_exporter": "python",
   "pygments_lexer": "ipython3",
   "version": "3.7.9"
  }
 },
 "nbformat": 4,
 "nbformat_minor": 5
}
