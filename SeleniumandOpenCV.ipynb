{
 "cells": [
  {
   "cell_type": "code",
   "execution_count": 1,
   "metadata": {},
   "outputs": [],
   "source": [
    "\n",
    "import time\n",
    "from selenium import webdriver\n",
    "from selenium.webdriver.common.keys import Keys\n",
    "from selenium.webdriver.common.action_chains import ActionChains\n",
    "import base64\n",
    "import cv2\n",
    "import numpy as np\n",
    "import matplotlib.pyplot as plt"
   ]
  },
  {
   "cell_type": "code",
   "execution_count": 37,
   "metadata": {},
   "outputs": [],
   "source": [
    "from selenium import webdriver\n",
    "from selenium.webdriver.common.keys import Keys\n",
    "from selenium.webdriver.support.ui import WebDriverWait\n",
    "from selenium.webdriver.support import expected_conditions as EC\n",
    "from selenium.webdriver.common.by import By\n",
    "from selenium.common.exceptions import TimeoutException"
   ]
  },
  {
   "cell_type": "code",
   "execution_count": 2,
   "metadata": {},
   "outputs": [],
   "source": [
    "driver = webdriver.Firefox()\n",
    "driver.get(\"https://logigames.bet9ja.com/games.ls?page=launch&gameid=18000&skin=12&sid=&pff=1&tmp=1611946195\")"
   ]
  },
  {
   "cell_type": "code",
   "execution_count": 44,
   "metadata": {},
   "outputs": [],
   "source": [
    "\n",
    "GAME_CANVAS = \"layer2\""
   ]
  },
  {
   "cell_type": "code",
   "execution_count": 66,
   "metadata": {},
   "outputs": [],
   "source": [
    "def getTemplate(TEMPLATE_NAME):\n",
    "    return cv2.imread('imgs/{}.png'.format(TEMPLATE_NAME),0)\n",
    "\n",
    "def getGameImage(driver, el_class_name = None):\n",
    "    \"\"\"Returns gray scale Image of the canvas \"\"\"\n",
    "    \n",
    "    c1_element = driver.find_element_by_id(el_class_name)\n",
    "    canvas = c1_element.screenshot_as_base64\n",
    "    cap = base64.b64decode(can)\n",
    "    image = cv2.imdecode(np.frombuffer(cap, np.uint8), 1)\n",
    "    gray_image = cv2.cvtColor(image, cv2.COLOR_BGR2GRAY)\n",
    "    return gray_image\n",
    "\n",
    "\n",
    "\n",
    "def detectTemplate(image, template, visualize = False):\n",
    "    w, h = template.shape[::-1]\n",
    "    # All the 6 methods for comparison in a list\n",
    "    methods = [['cv.TM_CCOEFF', 'cv.TM_CCOEFF_NORMED', 'cv.TM_CCORR',\n",
    "                'cv.TM_CCORR_NORMED', 'cv.TM_SQDIFF', 'cv.TM_SQDIFF_NORMED'][-1]]\n",
    "    # methods = ['cv.TM_CCOEFF', 'cv.TM_CCOEFF_NORMED', 'cv.TM_CCORR',\n",
    "    #             'cv.TM_CCORR_NORMED', 'cv.TM_SQDIFF', 'cv.TM_SQDIFF_NORMED'][-1]\n",
    "    for meth in methods:\n",
    "        img = img2.copy()\n",
    "        method = eval(meth)\n",
    "        # Apply template Matching\n",
    "        res = cv2.matchTemplate(img,template,method)\n",
    "        min_val, max_val, min_loc, max_loc = cv2.minMaxLoc(res)\n",
    "        # If the method is TM_SQDIFF or TM_SQDIFF_NORMED, take minimum\n",
    "        if method in [cv2.TM_SQDIFF, cv2.TM_SQDIFF_NORMED]:\n",
    "            top_left = min_loc\n",
    "        else:\n",
    "            top_left = max_loc\n",
    "        bottom_right = (top_left[0] + w, top_left[1] + h)\n",
    "        ### Visualize the Detection?\n",
    "        if(visualize == True):\n",
    "            cv2.rectangle(img,top_left, bottom_right, 255,20)\n",
    "            plt.subplot(121),plt.imshow(res,cmap = 'gray')\n",
    "            plt.title('Matching Result'), plt.xticks([]), plt.yticks([])\n",
    "            plt.subplot(122),plt.imshow(img,cmap = 'gray')\n",
    "            plt.title('Detected Point'), plt.xticks([]), plt.yticks([])\n",
    "            plt.suptitle(meth)\n",
    "            plt.show()\n",
    "    return (top_left, bottom_right)\n",
    "def clickScreen():\n",
    "    try:\n",
    "        #myElem = WebDriverWait(driver, delay).until(EC.element_to_be_clickable((By.CLASS_NAME, 'game')))\n",
    "        game_element = driver.find_element_by_class_name(\"game\")\n",
    "        myElem = game_element\n",
    "        action = webdriver.common.action_chains.ActionChains(driver)\n",
    "        action.move_to_element_with_offset(myElem, top_left[0] + 50, top_left[1] + 50)\n",
    "        action.click()\n",
    "        action.perform()\n",
    "        print(\"Page is ready!\")\n",
    "    except TimeoutException:\n",
    "        print(\"Loading took too much time!\")"
   ]
  },
  {
   "cell_type": "code",
   "execution_count": 46,
   "metadata": {},
   "outputs": [
    {
     "name": "stdout",
     "output_type": "stream",
     "text": [
      "Page is ready!\n"
     ]
    }
   ],
   "source": []
  },
  {
   "cell_type": "code",
   "execution_count": null,
   "metadata": {},
   "outputs": [],
   "source": []
  }
 ],
 "metadata": {
  "kernelspec": {
   "display_name": "WebDevFlask",
   "language": "python",
   "name": "webdevflask"
  },
  "language_info": {
   "codemirror_mode": {
    "name": "ipython",
    "version": 3
   },
   "file_extension": ".py",
   "mimetype": "text/x-python",
   "name": "python",
   "nbconvert_exporter": "python",
   "pygments_lexer": "ipython3",
   "version": "3.8.5"
  }
 },
 "nbformat": 4,
 "nbformat_minor": 4
}
